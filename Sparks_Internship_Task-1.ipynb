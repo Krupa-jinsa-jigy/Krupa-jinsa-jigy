{
 "cells": [
  {
   "cell_type": "markdown",
   "id": "45dc40f0",
   "metadata": {},
   "source": [
    "## GRIPOCTOBER2022\n",
    "## Author: Krupa Jinsa Jigy\n",
    "## Task-1: Prediction Using Supervised Machine Learning"
   ]
  },
  {
   "cell_type": "markdown",
   "id": "0bd2c526",
   "metadata": {},
   "source": [
    "## Introduction:\n",
    "Supervised machine learning relies on labelled input and output training data. The labels are clearly stated. Supervised machine learning includes regression and classification. Simple linear regression is a regression model that estimates the relationship between one independent variable and one dependent variable using a straight line. Both the variables should be quantitative inorder to fit a linear regression model."
   ]
  },
  {
   "cell_type": "markdown",
   "id": "ea2eee29",
   "metadata": {},
   "source": [
    "## Objective:\n",
    "The objective of this analysis is to:\n",
    "\n",
    "To predict the percentage recieved by a student basrd oon number of hours of study.\n",
    "To calculate the score if the student studies for 9.25 hours each day."
   ]
  },
  {
   "cell_type": "markdown",
   "id": "9fe0eb1a",
   "metadata": {},
   "source": [
    "## Data Description:\n",
    "The data set contains two variables which are number of hours and score obtained by 25 students. Here the independent varaiable is number of hours and dependent variable is the score obtained."
   ]
  },
  {
   "cell_type": "markdown",
   "id": "079d3adc",
   "metadata": {},
   "source": [
    "## Importing the packages"
   ]
  },
  {
   "cell_type": "code",
   "execution_count": 1,
   "id": "2c4b0082",
   "metadata": {},
   "outputs": [],
   "source": [
    "import pandas as pd\n",
    "import numpy as np\n",
    "import matplotlib.pyplot as plt\n",
    "import seaborn as sns\n",
    "import sklearn as sk"
   ]
  },
  {
   "cell_type": "markdown",
   "id": "a9264e33",
   "metadata": {},
   "source": [
    "## Importing the data"
   ]
  },
  {
   "cell_type": "code",
   "execution_count": 2,
   "id": "d572f634",
   "metadata": {},
   "outputs": [
    {
     "data": {
      "text/html": [
       "<div>\n",
       "<style scoped>\n",
       "    .dataframe tbody tr th:only-of-type {\n",
       "        vertical-align: middle;\n",
       "    }\n",
       "\n",
       "    .dataframe tbody tr th {\n",
       "        vertical-align: top;\n",
       "    }\n",
       "\n",
       "    .dataframe thead th {\n",
       "        text-align: right;\n",
       "    }\n",
       "</style>\n",
       "<table border=\"1\" class=\"dataframe\">\n",
       "  <thead>\n",
       "    <tr style=\"text-align: right;\">\n",
       "      <th></th>\n",
       "      <th>Hours</th>\n",
       "      <th>Scores</th>\n",
       "    </tr>\n",
       "  </thead>\n",
       "  <tbody>\n",
       "    <tr>\n",
       "      <th>0</th>\n",
       "      <td>2.5</td>\n",
       "      <td>21</td>\n",
       "    </tr>\n",
       "    <tr>\n",
       "      <th>1</th>\n",
       "      <td>5.1</td>\n",
       "      <td>47</td>\n",
       "    </tr>\n",
       "    <tr>\n",
       "      <th>2</th>\n",
       "      <td>3.2</td>\n",
       "      <td>27</td>\n",
       "    </tr>\n",
       "    <tr>\n",
       "      <th>3</th>\n",
       "      <td>8.5</td>\n",
       "      <td>75</td>\n",
       "    </tr>\n",
       "    <tr>\n",
       "      <th>4</th>\n",
       "      <td>3.5</td>\n",
       "      <td>30</td>\n",
       "    </tr>\n",
       "    <tr>\n",
       "      <th>5</th>\n",
       "      <td>1.5</td>\n",
       "      <td>20</td>\n",
       "    </tr>\n",
       "    <tr>\n",
       "      <th>6</th>\n",
       "      <td>9.2</td>\n",
       "      <td>88</td>\n",
       "    </tr>\n",
       "    <tr>\n",
       "      <th>7</th>\n",
       "      <td>5.5</td>\n",
       "      <td>60</td>\n",
       "    </tr>\n",
       "    <tr>\n",
       "      <th>8</th>\n",
       "      <td>8.3</td>\n",
       "      <td>81</td>\n",
       "    </tr>\n",
       "    <tr>\n",
       "      <th>9</th>\n",
       "      <td>2.7</td>\n",
       "      <td>25</td>\n",
       "    </tr>\n",
       "    <tr>\n",
       "      <th>10</th>\n",
       "      <td>7.7</td>\n",
       "      <td>85</td>\n",
       "    </tr>\n",
       "    <tr>\n",
       "      <th>11</th>\n",
       "      <td>5.9</td>\n",
       "      <td>62</td>\n",
       "    </tr>\n",
       "    <tr>\n",
       "      <th>12</th>\n",
       "      <td>4.5</td>\n",
       "      <td>41</td>\n",
       "    </tr>\n",
       "    <tr>\n",
       "      <th>13</th>\n",
       "      <td>3.3</td>\n",
       "      <td>42</td>\n",
       "    </tr>\n",
       "    <tr>\n",
       "      <th>14</th>\n",
       "      <td>1.1</td>\n",
       "      <td>17</td>\n",
       "    </tr>\n",
       "    <tr>\n",
       "      <th>15</th>\n",
       "      <td>8.9</td>\n",
       "      <td>95</td>\n",
       "    </tr>\n",
       "    <tr>\n",
       "      <th>16</th>\n",
       "      <td>2.5</td>\n",
       "      <td>30</td>\n",
       "    </tr>\n",
       "    <tr>\n",
       "      <th>17</th>\n",
       "      <td>1.9</td>\n",
       "      <td>24</td>\n",
       "    </tr>\n",
       "    <tr>\n",
       "      <th>18</th>\n",
       "      <td>6.1</td>\n",
       "      <td>67</td>\n",
       "    </tr>\n",
       "    <tr>\n",
       "      <th>19</th>\n",
       "      <td>7.4</td>\n",
       "      <td>69</td>\n",
       "    </tr>\n",
       "    <tr>\n",
       "      <th>20</th>\n",
       "      <td>2.7</td>\n",
       "      <td>30</td>\n",
       "    </tr>\n",
       "    <tr>\n",
       "      <th>21</th>\n",
       "      <td>4.8</td>\n",
       "      <td>54</td>\n",
       "    </tr>\n",
       "    <tr>\n",
       "      <th>22</th>\n",
       "      <td>3.8</td>\n",
       "      <td>35</td>\n",
       "    </tr>\n",
       "    <tr>\n",
       "      <th>23</th>\n",
       "      <td>6.9</td>\n",
       "      <td>76</td>\n",
       "    </tr>\n",
       "    <tr>\n",
       "      <th>24</th>\n",
       "      <td>7.8</td>\n",
       "      <td>86</td>\n",
       "    </tr>\n",
       "  </tbody>\n",
       "</table>\n",
       "</div>"
      ],
      "text/plain": [
       "    Hours  Scores\n",
       "0     2.5      21\n",
       "1     5.1      47\n",
       "2     3.2      27\n",
       "3     8.5      75\n",
       "4     3.5      30\n",
       "5     1.5      20\n",
       "6     9.2      88\n",
       "7     5.5      60\n",
       "8     8.3      81\n",
       "9     2.7      25\n",
       "10    7.7      85\n",
       "11    5.9      62\n",
       "12    4.5      41\n",
       "13    3.3      42\n",
       "14    1.1      17\n",
       "15    8.9      95\n",
       "16    2.5      30\n",
       "17    1.9      24\n",
       "18    6.1      67\n",
       "19    7.4      69\n",
       "20    2.7      30\n",
       "21    4.8      54\n",
       "22    3.8      35\n",
       "23    6.9      76\n",
       "24    7.8      86"
      ]
     },
     "execution_count": 2,
     "metadata": {},
     "output_type": "execute_result"
    }
   ],
   "source": [
    "data=pd.read_excel(r'C:\\Users\\KRUPA JINSA JIGY\\OneDrive\\Desktop\\Christ University\\Sparks Intership\\Sparks Task1 data.xlsx')\n",
    "data"
   ]
  },
  {
   "cell_type": "markdown",
   "id": "60c61176",
   "metadata": {},
   "source": [
    "## Exploratory Data Analysis"
   ]
  },
  {
   "cell_type": "code",
   "execution_count": 3,
   "id": "03229777",
   "metadata": {},
   "outputs": [
    {
     "data": {
      "text/html": [
       "<div>\n",
       "<style scoped>\n",
       "    .dataframe tbody tr th:only-of-type {\n",
       "        vertical-align: middle;\n",
       "    }\n",
       "\n",
       "    .dataframe tbody tr th {\n",
       "        vertical-align: top;\n",
       "    }\n",
       "\n",
       "    .dataframe thead th {\n",
       "        text-align: right;\n",
       "    }\n",
       "</style>\n",
       "<table border=\"1\" class=\"dataframe\">\n",
       "  <thead>\n",
       "    <tr style=\"text-align: right;\">\n",
       "      <th></th>\n",
       "      <th>Hours</th>\n",
       "      <th>Scores</th>\n",
       "    </tr>\n",
       "  </thead>\n",
       "  <tbody>\n",
       "    <tr>\n",
       "      <th>0</th>\n",
       "      <td>2.5</td>\n",
       "      <td>21</td>\n",
       "    </tr>\n",
       "    <tr>\n",
       "      <th>1</th>\n",
       "      <td>5.1</td>\n",
       "      <td>47</td>\n",
       "    </tr>\n",
       "    <tr>\n",
       "      <th>2</th>\n",
       "      <td>3.2</td>\n",
       "      <td>27</td>\n",
       "    </tr>\n",
       "    <tr>\n",
       "      <th>3</th>\n",
       "      <td>8.5</td>\n",
       "      <td>75</td>\n",
       "    </tr>\n",
       "    <tr>\n",
       "      <th>4</th>\n",
       "      <td>3.5</td>\n",
       "      <td>30</td>\n",
       "    </tr>\n",
       "  </tbody>\n",
       "</table>\n",
       "</div>"
      ],
      "text/plain": [
       "   Hours  Scores\n",
       "0    2.5      21\n",
       "1    5.1      47\n",
       "2    3.2      27\n",
       "3    8.5      75\n",
       "4    3.5      30"
      ]
     },
     "execution_count": 3,
     "metadata": {},
     "output_type": "execute_result"
    }
   ],
   "source": [
    "data.head()"
   ]
  },
  {
   "cell_type": "code",
   "execution_count": 4,
   "id": "593f69c3",
   "metadata": {},
   "outputs": [
    {
     "name": "stdout",
     "output_type": "stream",
     "text": [
      "Details of the dataset: \n",
      "Number of rows:  25\n",
      "Number of columns:  2\n",
      " \n",
      "Datatype description (column wise): \n",
      "<class 'pandas.core.frame.DataFrame'>\n",
      "RangeIndex: 25 entries, 0 to 24\n",
      "Data columns (total 2 columns):\n",
      " #   Column  Non-Null Count  Dtype  \n",
      "---  ------  --------------  -----  \n",
      " 0   Hours   25 non-null     float64\n",
      " 1   Scores  25 non-null     int64  \n",
      "dtypes: float64(1), int64(1)\n",
      "memory usage: 528.0 bytes\n"
     ]
    }
   ],
   "source": [
    "# Printing the details of the dataset\n",
    "print(\"Details of the dataset: \")\n",
    "print(\"Number of rows: \",data.shape[0])\n",
    "print(\"Number of columns: \",data.shape[1])\n",
    "print(\" \")\n",
    "print(\"Datatype description (column wise): \")\n",
    "data.info()"
   ]
  },
  {
   "cell_type": "code",
   "execution_count": 5,
   "id": "928e2403",
   "metadata": {},
   "outputs": [
    {
     "name": "stdout",
     "output_type": "stream",
     "text": [
      "Column wise statistics: \n"
     ]
    },
    {
     "data": {
      "text/html": [
       "<div>\n",
       "<style scoped>\n",
       "    .dataframe tbody tr th:only-of-type {\n",
       "        vertical-align: middle;\n",
       "    }\n",
       "\n",
       "    .dataframe tbody tr th {\n",
       "        vertical-align: top;\n",
       "    }\n",
       "\n",
       "    .dataframe thead th {\n",
       "        text-align: right;\n",
       "    }\n",
       "</style>\n",
       "<table border=\"1\" class=\"dataframe\">\n",
       "  <thead>\n",
       "    <tr style=\"text-align: right;\">\n",
       "      <th></th>\n",
       "      <th>Hours</th>\n",
       "      <th>Scores</th>\n",
       "    </tr>\n",
       "  </thead>\n",
       "  <tbody>\n",
       "    <tr>\n",
       "      <th>count</th>\n",
       "      <td>25.000000</td>\n",
       "      <td>25.000000</td>\n",
       "    </tr>\n",
       "    <tr>\n",
       "      <th>mean</th>\n",
       "      <td>5.012000</td>\n",
       "      <td>51.480000</td>\n",
       "    </tr>\n",
       "    <tr>\n",
       "      <th>std</th>\n",
       "      <td>2.525094</td>\n",
       "      <td>25.286887</td>\n",
       "    </tr>\n",
       "    <tr>\n",
       "      <th>min</th>\n",
       "      <td>1.100000</td>\n",
       "      <td>17.000000</td>\n",
       "    </tr>\n",
       "    <tr>\n",
       "      <th>25%</th>\n",
       "      <td>2.700000</td>\n",
       "      <td>30.000000</td>\n",
       "    </tr>\n",
       "    <tr>\n",
       "      <th>50%</th>\n",
       "      <td>4.800000</td>\n",
       "      <td>47.000000</td>\n",
       "    </tr>\n",
       "    <tr>\n",
       "      <th>75%</th>\n",
       "      <td>7.400000</td>\n",
       "      <td>75.000000</td>\n",
       "    </tr>\n",
       "    <tr>\n",
       "      <th>max</th>\n",
       "      <td>9.200000</td>\n",
       "      <td>95.000000</td>\n",
       "    </tr>\n",
       "  </tbody>\n",
       "</table>\n",
       "</div>"
      ],
      "text/plain": [
       "           Hours     Scores\n",
       "count  25.000000  25.000000\n",
       "mean    5.012000  51.480000\n",
       "std     2.525094  25.286887\n",
       "min     1.100000  17.000000\n",
       "25%     2.700000  30.000000\n",
       "50%     4.800000  47.000000\n",
       "75%     7.400000  75.000000\n",
       "max     9.200000  95.000000"
      ]
     },
     "execution_count": 5,
     "metadata": {},
     "output_type": "execute_result"
    }
   ],
   "source": [
    "print(\"Column wise statistics: \")\n",
    "data.describe()"
   ]
  },
  {
   "cell_type": "markdown",
   "id": "574bd8dd",
   "metadata": {},
   "source": [
    "The data has 25 observations. There are 2 variables and both are continous variables. The mean value, minimum, maximum value and the quartile values are obtained using the describe function.\n",
    "\n",
    "The maximum hours a student can study per day is 9.2 while the minimum is 1.1. The avareage number of hours students spent in studying is approximately 5 hours.\n",
    "The maximum score obtained is 95% while the minimum score is 17%. The avareage score of the set of students is 51.48%."
   ]
  },
  {
   "cell_type": "code",
   "execution_count": 6,
   "id": "90b0b316",
   "metadata": {},
   "outputs": [
    {
     "name": "stdout",
     "output_type": "stream",
     "text": [
      "Number of unique values in each column: \n"
     ]
    },
    {
     "data": {
      "text/plain": [
       "Hours     23\n",
       "Scores    23\n",
       "dtype: int64"
      ]
     },
     "execution_count": 6,
     "metadata": {},
     "output_type": "execute_result"
    }
   ],
   "source": [
    "## To check for number of unique vaules in each column\n",
    "print(\"Number of unique values in each column: \")\n",
    "data.nunique()"
   ]
  },
  {
   "cell_type": "code",
   "execution_count": 7,
   "id": "8856af89",
   "metadata": {},
   "outputs": [
    {
     "data": {
      "text/plain": [
       "Hours     float64\n",
       "Scores      int64\n",
       "dtype: object"
      ]
     },
     "execution_count": 7,
     "metadata": {},
     "output_type": "execute_result"
    }
   ],
   "source": [
    "data.dtypes"
   ]
  },
  {
   "cell_type": "markdown",
   "id": "946f0414",
   "metadata": {},
   "source": [
    "Data type conversion is not required as the varaiables are stored in correct data type."
   ]
  },
  {
   "cell_type": "code",
   "execution_count": 8,
   "id": "726d7ebf",
   "metadata": {},
   "outputs": [
    {
     "data": {
      "text/plain": [
       "Hours     0\n",
       "Scores    0\n",
       "dtype: int64"
      ]
     },
     "execution_count": 8,
     "metadata": {},
     "output_type": "execute_result"
    }
   ],
   "source": [
    "## Missing values\n",
    "data.isnull().sum()"
   ]
  },
  {
   "cell_type": "markdown",
   "id": "a1e0a783",
   "metadata": {},
   "source": [
    "There are no missing values."
   ]
  },
  {
   "cell_type": "code",
   "execution_count": 9,
   "id": "40c99140",
   "metadata": {},
   "outputs": [
    {
     "data": {
      "text/html": [
       "<div>\n",
       "<style scoped>\n",
       "    .dataframe tbody tr th:only-of-type {\n",
       "        vertical-align: middle;\n",
       "    }\n",
       "\n",
       "    .dataframe tbody tr th {\n",
       "        vertical-align: top;\n",
       "    }\n",
       "\n",
       "    .dataframe thead th {\n",
       "        text-align: right;\n",
       "    }\n",
       "</style>\n",
       "<table border=\"1\" class=\"dataframe\">\n",
       "  <thead>\n",
       "    <tr style=\"text-align: right;\">\n",
       "      <th></th>\n",
       "      <th>Hours</th>\n",
       "      <th>Scores</th>\n",
       "    </tr>\n",
       "  </thead>\n",
       "  <tbody>\n",
       "    <tr>\n",
       "      <th>Hours</th>\n",
       "      <td>1.000000</td>\n",
       "      <td>0.976191</td>\n",
       "    </tr>\n",
       "    <tr>\n",
       "      <th>Scores</th>\n",
       "      <td>0.976191</td>\n",
       "      <td>1.000000</td>\n",
       "    </tr>\n",
       "  </tbody>\n",
       "</table>\n",
       "</div>"
      ],
      "text/plain": [
       "           Hours    Scores\n",
       "Hours   1.000000  0.976191\n",
       "Scores  0.976191  1.000000"
      ]
     },
     "execution_count": 9,
     "metadata": {},
     "output_type": "execute_result"
    }
   ],
   "source": [
    "data.corr()"
   ]
  },
  {
   "cell_type": "markdown",
   "id": "ffe365f6",
   "metadata": {},
   "source": [
    "As the correlation between hours and scores is close to 1,there exist a strong positive correlation between the variables."
   ]
  },
  {
   "cell_type": "markdown",
   "id": "ebeabdac",
   "metadata": {},
   "source": [
    "## Data Visualization"
   ]
  },
  {
   "cell_type": "code",
   "execution_count": 10,
   "id": "e342c56b",
   "metadata": {},
   "outputs": [
    {
     "data": {
      "text/plain": [
       "Text(0.5, 0, 'No. of hours studied')"
      ]
     },
     "execution_count": 10,
     "metadata": {},
     "output_type": "execute_result"
    },
    {
     "data": {
      "image/png": "[encoded data removed]",
      "text/plain": [
       "<Figure size 432x288 with 1 Axes>"
      ]
     },
     "metadata": {
      "needs_background": "light"
     },
     "output_type": "display_data"
    }
   ],
   "source": [
    "## Histogram\n",
    "plt.hist(data[\"Hours\"])\n",
    "plt.title(\"Fig 1: Distribution of hours\")\n",
    "plt.xlabel(\"No. of hours studied\")"
   ]
  },
  {
   "cell_type": "code",
   "execution_count": 11,
   "id": "1d9cc6da",
   "metadata": {},
   "outputs": [
    {
     "data": {
      "text/plain": [
       "Text(0.5, 0, 'Scores')"
      ]
     },
     "execution_count": 11,
     "metadata": {},
     "output_type": "execute_result"
    },
    {
     "data": {
      "image/png": "[encoded data removed]",
      "text/plain": [
       "<Figure size 432x288 with 1 Axes>"
      ]
     },
     "metadata": {
      "needs_background": "light"
     },
     "output_type": "display_data"
    }
   ],
   "source": [
    "## Histogram\n",
    "plt.hist(data[\"Scores\"])\n",
    "plt.title(\"Fig 2: Distribution of scores\")\n",
    "plt.xlabel(\"Scores\")"
   ]
  },
  {
   "cell_type": "code",
   "execution_count": 12,
   "id": "c9ac1240",
   "metadata": {},
   "outputs": [
    {
     "data": {
      "image/png": "[encoded data removed]",
      "text/plain": [
       "<Figure size 432x288 with 1 Axes>"
      ]
     },
     "metadata": {
      "needs_background": "light"
     },
     "output_type": "display_data"
    }
   ],
   "source": [
    "## Scatter plot\n",
    "plt.scatter(data['Hours'],data['Scores'])\n",
    "plt.ylabel('Percentage scored')\n",
    "plt.xlabel('Hours studied')\n",
    "plt.title('Fig 3: Hours vs Percentage')\n",
    "plt.show()"
   ]
  },
  {
   "cell_type": "markdown",
   "id": "46bb6c7e",
   "metadata": {},
   "source": [
    "#### Interpretation:\n",
    "This shows that there is a positive relation between the hours studied by a student and the percentage that student scores."
   ]
  },
  {
   "cell_type": "code",
   "execution_count": 13,
   "id": "28d533ac",
   "metadata": {},
   "outputs": [
    {
     "data": {
      "text/plain": [
       "Text(0.5, 1.0, 'Box plot for Hours')"
      ]
     },
     "execution_count": 13,
     "metadata": {},
     "output_type": "execute_result"
    },
    {
     "data": {
      "image/png": "[encoded data removed]",
      "text/plain": [
       "<Figure size 432x288 with 1 Axes>"
      ]
     },
     "metadata": {
      "needs_background": "light"
     },
     "output_type": "display_data"
    }
   ],
   "source": [
    "## Box plot\n",
    "data.Hours.plot.box(color=\"blue\")\n",
    "plt.title(\"Box plot for Hours\")"
   ]
  },
  {
   "cell_type": "markdown",
   "id": "161382b2",
   "metadata": {},
   "source": [
    "#### Interpretation:\n",
    "This shows that the median hours of study per day by a student is almost 5 hours. It also shows that there is no presence of outliers and that it is not normally distributed since median is not equal to mean."
   ]
  },
  {
   "cell_type": "code",
   "execution_count": 14,
   "id": "039ba334",
   "metadata": {},
   "outputs": [
    {
     "data": {
      "text/plain": [
       "Text(0.5, 1.0, 'Box plot for Scores')"
      ]
     },
     "execution_count": 14,
     "metadata": {},
     "output_type": "execute_result"
    },
    {
     "data": {
      "image/png": "[encoded data removed]",
      "text/plain": [
       "<Figure size 432x288 with 1 Axes>"
      ]
     },
     "metadata": {
      "needs_background": "light"
     },
     "output_type": "display_data"
    }
   ],
   "source": [
    "## Box plot\n",
    "data.Scores.plot.box(color=\"red\")\n",
    "plt.title(\"Box plot for Scores\")"
   ]
  },
  {
   "cell_type": "markdown",
   "id": "322e925a",
   "metadata": {},
   "source": [
    "####  Interpretation:\n",
    "This shows that the percentage of scores by a student is around 48%. It also shows that there is no presence of outliers and that it is not normally distributed since median is not equal to mean."
   ]
  },
  {
   "cell_type": "code",
   "execution_count": 15,
   "id": "6bd2c697",
   "metadata": {},
   "outputs": [
    {
     "data": {
      "image/png": "[encoded data removed]",
      "text/plain": [
       "<Figure size 432x288 with 2 Axes>"
      ]
     },
     "metadata": {
      "needs_background": "light"
     },
     "output_type": "display_data"
    }
   ],
   "source": [
    "x = data.corr()\n",
    "\n",
    "plt.figure(figsize = (6,4))\n",
    "sns.heatmap(x, annot = True, cmap = \"mako\")\n",
    "plt.title(\"Fig 6: Correlation Heatmap\");"
   ]
  },
  {
   "cell_type": "markdown",
   "id": "d660191a",
   "metadata": {},
   "source": [
    "####  Interpretation:\n",
    "The correlation coeffiecient is 0.98. This implies that the hours of tudy and the percentage scored by a student is highly positively correlated."
   ]
  },
  {
   "cell_type": "markdown",
   "id": "97eacb08",
   "metadata": {},
   "source": [
    "## Splitting the data"
   ]
  },
  {
   "cell_type": "code",
   "execution_count": 16,
   "id": "82c91570",
   "metadata": {},
   "outputs": [],
   "source": [
    "X= data.iloc[:, :-1].values \n",
    "y = data.iloc[:, 1].values "
   ]
  },
  {
   "cell_type": "code",
   "execution_count": 17,
   "id": "f52d9ade",
   "metadata": {},
   "outputs": [],
   "source": [
    "from sklearn.model_selection import train_test_split\n",
    "X_train,X_test,y_train,y_test=train_test_split(X,y,train_size=0.8,test_size=0.2,random_state=123)"
   ]
  },
  {
   "cell_type": "code",
   "execution_count": 18,
   "id": "c6c583d5",
   "metadata": {},
   "outputs": [
    {
     "data": {
      "text/plain": [
       "(20, 1)"
      ]
     },
     "execution_count": 18,
     "metadata": {},
     "output_type": "execute_result"
    }
   ],
   "source": [
    "X_train.shape"
   ]
  },
  {
   "cell_type": "code",
   "execution_count": 19,
   "id": "e45b490b",
   "metadata": {},
   "outputs": [
    {
     "data": {
      "text/plain": [
       "(5, 1)"
      ]
     },
     "execution_count": 19,
     "metadata": {},
     "output_type": "execute_result"
    }
   ],
   "source": [
    "X_test.shape"
   ]
  },
  {
   "cell_type": "markdown",
   "id": "f56cac98",
   "metadata": {},
   "source": [
    "Te data set is split into training data and testing data. 80% of the data is used to train the model and the remaining 20% of the data is used for testing the model."
   ]
  },
  {
   "cell_type": "markdown",
   "id": "cc61ac9b",
   "metadata": {},
   "source": [
    "## Fitting the model"
   ]
  },
  {
   "cell_type": "code",
   "execution_count": 20,
   "id": "4bf95a61",
   "metadata": {},
   "outputs": [
    {
     "name": "stdout",
     "output_type": "stream",
     "text": [
      "Training complete.\n",
      "\n",
      "The estimates of the parameters are:\n",
      "The regression coefficient of the model is [9.60171878]\n",
      "The constant value of the model is 2.695388922345721\n"
     ]
    }
   ],
   "source": [
    "from sklearn.linear_model import LinearRegression \n",
    "\n",
    "clf=LinearRegression()\n",
    "model=clf.fit(X_train,y_train) \n",
    "print(\"Training complete.\\n\")\n",
    "print(\"The estimates of the parameters are:\")\n",
    "      \n",
    "print(\"The regression coefficient of the model is\",clf.coef_)\n",
    "print(\"The constant value of the model is\",clf.intercept_)"
   ]
  },
  {
   "cell_type": "markdown",
   "id": "56e0362e",
   "metadata": {},
   "source": [
    "The fitted regression model is\n",
    "\n",
    "Score= 1.98+ 9.83* Hours\n",
    "\n",
    "The sign of the regression coefficient of Hours is positive which implies that as the number of study hours increases the score will also increase. That is when the independent variable increases the mean of the dependent variable also increases.\n",
    "\n",
    "The intercept term is equal to 1.98 which is the average score when the regressor is considered to be zero( 0 hour).\n",
    "\n",
    "The coefficient for Hour is equal to 9.83 which implies that when the students increases their studying hours by one, the Score will increase by 9.83%"
   ]
  },
  {
   "cell_type": "markdown",
   "id": "0359a252",
   "metadata": {},
   "source": [
    "## Visualising the fitted line on the Data Set"
   ]
  },
  {
   "cell_type": "code",
   "execution_count": 21,
   "id": "16eca61e",
   "metadata": {},
   "outputs": [
    {
     "data": {
      "image/png": "[encoded data removed]",
      "text/plain": [
       "<Figure size 432x288 with 1 Axes>"
      ]
     },
     "metadata": {
      "needs_background": "light"
     },
     "output_type": "display_data"
    }
   ],
   "source": [
    "# Plotting the regression line\n",
    "line = clf.coef_*X+clf.intercept_\n",
    "# Plotting for the test data\n",
    "plt.scatter(X, y,color=\"red\")\n",
    "plt.plot(X, line,color=\"green\")\n",
    "plt.show()"
   ]
  },
  {
   "cell_type": "markdown",
   "id": "a93d2698",
   "metadata": {},
   "source": [
    "#### Interpretation:\n",
    "From the above plot, it can be observed that all the points lies around the regression line which implies that the model is a good fit."
   ]
  },
  {
   "cell_type": "markdown",
   "id": "7324016a",
   "metadata": {},
   "source": [
    "## Predicting the Scores"
   ]
  },
  {
   "cell_type": "code",
   "execution_count": 22,
   "id": "b2b7e7a5",
   "metadata": {},
   "outputs": [
    {
     "data": {
      "text/plain": [
       "array([17.09796709, 48.78363906, 39.18192028, 61.26587347, 88.15068605])"
      ]
     },
     "execution_count": 22,
     "metadata": {},
     "output_type": "execute_result"
    }
   ],
   "source": [
    "y_pred = clf.predict(X_test) \n",
    "y_pred"
   ]
  },
  {
   "cell_type": "markdown",
   "id": "7898c362",
   "metadata": {},
   "source": [
    "The predicited scores are obtained for the tested data."
   ]
  },
  {
   "cell_type": "markdown",
   "id": "53728826",
   "metadata": {},
   "source": [
    "## Comparison of Actual Values vs Predicted Values"
   ]
  },
  {
   "cell_type": "code",
   "execution_count": 23,
   "id": "cce61c9f",
   "metadata": {},
   "outputs": [
    {
     "data": {
      "text/html": [
       "<div>\n",
       "<style scoped>\n",
       "    .dataframe tbody tr th:only-of-type {\n",
       "        vertical-align: middle;\n",
       "    }\n",
       "\n",
       "    .dataframe tbody tr th {\n",
       "        vertical-align: top;\n",
       "    }\n",
       "\n",
       "    .dataframe thead th {\n",
       "        text-align: right;\n",
       "    }\n",
       "</style>\n",
       "<table border=\"1\" class=\"dataframe\">\n",
       "  <thead>\n",
       "    <tr style=\"text-align: right;\">\n",
       "      <th></th>\n",
       "      <th>Actual</th>\n",
       "      <th>Predicted</th>\n",
       "    </tr>\n",
       "  </thead>\n",
       "  <tbody>\n",
       "    <tr>\n",
       "      <th>0</th>\n",
       "      <td>20</td>\n",
       "      <td>17.097967</td>\n",
       "    </tr>\n",
       "    <tr>\n",
       "      <th>1</th>\n",
       "      <td>54</td>\n",
       "      <td>48.783639</td>\n",
       "    </tr>\n",
       "    <tr>\n",
       "      <th>2</th>\n",
       "      <td>35</td>\n",
       "      <td>39.181920</td>\n",
       "    </tr>\n",
       "    <tr>\n",
       "      <th>3</th>\n",
       "      <td>67</td>\n",
       "      <td>61.265873</td>\n",
       "    </tr>\n",
       "    <tr>\n",
       "      <th>4</th>\n",
       "      <td>95</td>\n",
       "      <td>88.150686</td>\n",
       "    </tr>\n",
       "  </tbody>\n",
       "</table>\n",
       "</div>"
      ],
      "text/plain": [
       "   Actual  Predicted\n",
       "0      20  17.097967\n",
       "1      54  48.783639\n",
       "2      35  39.181920\n",
       "3      67  61.265873\n",
       "4      95  88.150686"
      ]
     },
     "execution_count": 23,
     "metadata": {},
     "output_type": "execute_result"
    }
   ],
   "source": [
    "df = pd.DataFrame({'Actual': y_test, 'Predicted': y_pred})  \n",
    "df"
   ]
  },
  {
   "cell_type": "markdown",
   "id": "2c59fe83",
   "metadata": {},
   "source": [
    "#### Interpretation:\n",
    "We compare the predicted score with the actual score of the students and it can be observed that the predicted scores are closer to the actual scores. Thus the prediction is almost accurate."
   ]
  },
  {
   "cell_type": "markdown",
   "id": "fca69582",
   "metadata": {},
   "source": [
    "## Predicting Score if student Studies 9.5 hours a day"
   ]
  },
  {
   "cell_type": "code",
   "execution_count": 24,
   "id": "71f18e62",
   "metadata": {},
   "outputs": [
    {
     "name": "stdout",
     "output_type": "stream",
     "text": [
      "No of Hours = 9.25\n",
      "Predicted Score = 91.51128761861358\n"
     ]
    }
   ],
   "source": [
    "hours = 9.25\n",
    "pred = clf.predict([[hours]])\n",
    "print(\"No of Hours = {}\".format(hours))\n",
    "print(\"Predicted Score = {}\".format(pred[0]))"
   ]
  },
  {
   "cell_type": "markdown",
   "id": "041833de",
   "metadata": {},
   "source": [
    "#### Interpretation:\n",
    "The score if the student studies for 9.25 hours each day is predicted to be 92.67%."
   ]
  },
  {
   "cell_type": "markdown",
   "id": "4f201eca",
   "metadata": {},
   "source": [
    "## Accuracy Measures"
   ]
  },
  {
   "cell_type": "markdown",
   "id": "66202210",
   "metadata": {},
   "source": [
    "### 1) R-squared value"
   ]
  },
  {
   "cell_type": "code",
   "execution_count": 25,
   "id": "01bcf22a",
   "metadata": {},
   "outputs": [
    {
     "data": {
      "text/plain": [
       "0.9605221627526418"
      ]
     },
     "execution_count": 25,
     "metadata": {},
     "output_type": "execute_result"
    }
   ],
   "source": [
    "from sklearn.metrics import r2_score\n",
    "r2_score(y_test,y_pred)"
   ]
  },
  {
   "cell_type": "markdown",
   "id": "72213114",
   "metadata": {},
   "source": [
    "The R square value is 0.9 which implies that 90% of the total variation in the scores is explained by the number of hours the students study. The r square value is closer to one thus the model is a good fit."
   ]
  },
  {
   "cell_type": "markdown",
   "id": "a2625a20",
   "metadata": {},
   "source": [
    "### 2) Mean Square Error"
   ]
  },
  {
   "cell_type": "code",
   "execution_count": 26,
   "id": "4dcdefde",
   "metadata": {},
   "outputs": [
    {
     "name": "stdout",
     "output_type": "stream",
     "text": [
      "Mean squared error is: 26.582796488881094\n"
     ]
    }
   ],
   "source": [
    "from sklearn.metrics import mean_squared_error\n",
    "mse=mean_squared_error(y_test,y_pred)\n",
    "print(\"Mean squared error is:\",mse)"
   ]
  },
  {
   "cell_type": "markdown",
   "id": "0208f964",
   "metadata": {},
   "source": [
    "### 3) Mean Absolute Error"
   ]
  },
  {
   "cell_type": "code",
   "execution_count": 27,
   "id": "0e38ce37",
   "metadata": {},
   "outputs": [
    {
     "name": "stdout",
     "output_type": "stream",
     "text": [
      "Mean absolute error is: 4.976750923680403\n"
     ]
    }
   ],
   "source": [
    "from sklearn.metrics import mean_absolute_error\n",
    "mae=mean_absolute_error(y_test,y_pred)\n",
    "print(\"Mean absolute error is:\",mae)"
   ]
  },
  {
   "cell_type": "markdown",
   "id": "503449cd",
   "metadata": {},
   "source": [
    "## Conclusion:\n",
    "For the given dataset explorative data analysis is carried out and the necessary data transformations are done. The transformed data is splitted to train and test data sets. For the train data set linear regression algorithm is implemented. Since the data set has continous variables we use linear regression to fit the model. We obtain the accuracy measure and though the r squared value we can observe that the model is a good fit."
   ]
  }
 ],
 "metadata": {
  "kernelspec": {
   "display_name": "Python 3 (ipykernel)",
   "language": "python",
   "name": "python3"
  },
  "language_info": {
   "codemirror_mode": {
    "name": "ipython",
    "version": 3
   },
   "file_extension": ".py",
   "mimetype": "text/x-python",
   "name": "python",
   "nbconvert_exporter": "python",
   "pygments_lexer": "ipython3",
   "version": "3.9.7"
  }
 },
 "nbformat": 4,
 "nbformat_minor": 5
}
